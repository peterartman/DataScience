{
 "cells": [
  {
   "cell_type": "code",
   "execution_count": 1,
   "metadata": {},
   "outputs": [],
   "source": [
    "# Auhtor:       Piotr Artman\n",
    "# StudentID:    C00220223\n",
    "# Subject:      Data Science and Machine Learning 1\n",
    "# Project:      Analysis of trends for gold bullion price\n",
    "\n",
    "# WARNING:      WORK IN PROGRESS  "
   ]
  },
  {
   "cell_type": "code",
   "execution_count": 2,
   "metadata": {},
   "outputs": [],
   "source": [
    "# Step 1 - connecting do data from NASDAQ \n",
    "\n",
    "import nasdaqdatalink\n",
    "nasdaqdatalink.ApiConfig.api_key = \n",
    "\n",
    "# import gold bullion price on London Bullion Market Association from Nasdq\n",
    "\n",
    "data = nasdaqdatalink.get('LBMA/GOLD')"
   ]
  },
  {
   "cell_type": "code",
   "execution_count": 3,
   "metadata": {},
   "outputs": [],
   "source": [
    "# step 2 - importing pandas\n",
    "import pandas as pd "
   ]
  },
  {
   "cell_type": "code",
   "execution_count": 4,
   "metadata": {},
   "outputs": [
    {
     "name": "stdout",
     "output_type": "stream",
     "text": [
      "            USD (AM)  USD (PM)  GBP (AM)  GBP (PM)  EURO (AM)  EURO (PM)\n",
      "Date                                                                    \n",
      "1968-01-02     35.18       NaN    14.641       NaN        NaN        NaN\n",
      "1968-01-03     35.16       NaN    14.617       NaN        NaN        NaN\n",
      "1968-01-04     35.14       NaN    14.603       NaN        NaN        NaN\n",
      "1968-01-05     35.14       NaN    14.597       NaN        NaN        NaN\n",
      "1968-01-08     35.14       NaN    14.586       NaN        NaN        NaN\n",
      "...              ...       ...       ...       ...        ...        ...\n",
      "2023-10-23   1980.95   1973.00  1627.940   1620.62    1866.65    1860.14\n",
      "2023-10-24   1967.40   1963.65  1605.990   1610.78    1848.18    1849.95\n",
      "2023-10-25   1970.15   1983.30  1625.180   1635.03    1864.16    1876.20\n",
      "2023-10-26   1991.45   1975.00  1647.130   1630.96    1888.09    1874.67\n",
      "2023-10-27   1987.60   1982.90  1636.990   1631.93    1881.26    1873.64\n",
      "\n",
      "[14108 rows x 6 columns]\n"
     ]
    }
   ],
   "source": [
    "df = pd.DataFrame(data)\n",
    "print(df)\n",
    "# df.to_csv('Gold.csv', index=False)\n",
    "# df.to_excel(\"/home/DataScience/Data/output.xlsx\")\n",
    "# print(df.columns)\n"
   ]
  }
 ],
 "metadata": {
  "kernelspec": {
   "display_name": "Python 3",
   "language": "python",
   "name": "python3"
  },
  "language_info": {
   "codemirror_mode": {
    "name": "ipython",
    "version": 3
   },
   "file_extension": ".py",
   "mimetype": "text/x-python",
   "name": "python",
   "nbconvert_exporter": "python",
   "pygments_lexer": "ipython3",
   "version": "3.10.12"
  }
 },
 "nbformat": 4,
 "nbformat_minor": 2
}
