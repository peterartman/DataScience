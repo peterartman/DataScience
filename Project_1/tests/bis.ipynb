{
 "cells": [
  {
   "cell_type": "code",
   "execution_count": 11,
   "metadata": {},
   "outputs": [],
   "source": [
    "import pandasdmx as sdmx"
   ]
  },
  {
   "cell_type": "code",
   "execution_count": 13,
   "metadata": {},
   "outputs": [],
   "source": [
    "datasets = [\n",
    "{'source' : 'fred', 'setsymbol' : 'MABMM301PLM189N', 'description' : 'M3 of PLN, Not Seasonally Adjusted'},\n",
    "{'source' : 'fred', 'setsymbol': 'MYAGM3EZM196N' , 'description' : 'M3 of EUR, Not Seasonally Adjusted'}\n",
    "]"
   ]
  },
  {
   "cell_type": "code",
   "execution_count": 15,
   "metadata": {},
   "outputs": [
    {
     "name": "stdout",
     "output_type": "stream",
     "text": [
      "MABMM301PLM189N\n"
     ]
    }
   ],
   "source": [
    "print(datasets[0]['setsymbol'])"
   ]
  }
 ],
 "metadata": {
  "kernelspec": {
   "display_name": "base",
   "language": "python",
   "name": "python3"
  },
  "language_info": {
   "codemirror_mode": {
    "name": "ipython",
    "version": 3
   },
   "file_extension": ".py",
   "mimetype": "text/x-python",
   "name": "python",
   "nbconvert_exporter": "python",
   "pygments_lexer": "ipython3",
   "version": "3.11.5"
  }
 },
 "nbformat": 4,
 "nbformat_minor": 2
}
