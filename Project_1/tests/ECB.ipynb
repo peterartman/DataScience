{
 "cells": [
  {
   "cell_type": "code",
   "execution_count": 33,
   "metadata": {},
   "outputs": [],
   "source": [
    "# Based on example from https://www.pythonsherpa.com/static/files/html/ECB%20-%20Open%20Data.html\n",
    "\n",
    "# Step 1 - importing software components\n",
    "\n",
    "import requests\n",
    "import pandas as pd \n",
    "import io"
   ]
  },
  {
   "cell_type": "code",
   "execution_count": 34,
   "metadata": {},
   "outputs": [],
   "source": [
    "# Building blocks for the URL\n",
    "entrypoint = 'https://sdw-wsrest.ecb.europa.eu/service/' # Using protocol 'https'\n",
    "resource = 'data'           # The resource for data queries is always'data'\n",
    "flowRef ='EXR'              # Dataflow describing the data that needs to be returned, exchange rates in this case\n",
    "key = 'D.CHF.EUR.SP00.A'    # Defining the dimension values, explained below\n",
    "\n",
    "# Define the parameters\n",
    "parameters = {\n",
    "    'startPeriod': '2000-01-01',  # Start date of the time series\n",
    "    'endPeriod': '2018-10-01'     # End of the time series\n",
    "}"
   ]
  },
  {
   "cell_type": "code",
   "execution_count": 35,
   "metadata": {},
   "outputs": [
    {
     "name": "stdout",
     "output_type": "stream",
     "text": [
      "<Response [200]>\n",
      "https://data-api.ecb.europa.eu/service/data/EXR/D.CHF.EUR.SP00.A?startPeriod=2000-01-01&endPeriod=2018-10-01\n"
     ]
    }
   ],
   "source": [
    "# Construct the URL: https://sdw-wsrest.ecb.europa.eu/service/data/EXR/D.CHF.EUR.SP00.A\n",
    "request_url = entrypoint + resource + '/'+ flowRef + '/' + key\n",
    "\n",
    "# Make the HTTP request\n",
    "response = requests.get(request_url, params=parameters)\n",
    "\n",
    "# Check if the response returns succesfully with response code 200\n",
    "print(response)\n",
    "\n",
    "# Print the full URL\n",
    "print(response.url)"
   ]
  },
  {
   "cell_type": "code",
   "execution_count": 36,
   "metadata": {},
   "outputs": [
    {
     "name": "stdout",
     "output_type": "stream",
     "text": [
      "<?xml version=\"1.0\" encoding=\"UTF-8\"?><message:GenericData xmlns:message=\"http://www.sdmx.org/resources/sdmxml/schemas/v2_1/message\" xmlns:common=\"http://www.sdmx.org/resources/sdmxml/schemas/v2_1/common\" xmlns:xsi=\"http://www.w3.org/2001/XMLSchema-instance\" xmlns:generic=\"http://www.sdmx.org/resources/sdmxml/schemas/v2_1/data/generic\" xsi:schemaLocation=\"http://www.sdmx.org/resources/sdmxml/schemas/v2_1/message http://data-api.ecb.europa.eu:80/vocabulary/sdmx/2_1/SDMXMessage.xsd http://www.sdmx.org/resources/sdmxml/schemas/v2_1/common http://data-api.ecb.europa.eu:80/vocabulary/sdmx/2_1/SDMXCommon.xsd http://www.sdmx.org/resources/sdmxml/schemas/v2_1/data/generic http://data-api.ecb.europa.eu:80/vocabulary/sdmx/2_1/SDMXDataGeneric.xsd\">\n",
      "<message:Header>\n",
      "<message:ID>4c65bbe1-84ca-45ae-8308-073bce2c0cc2</message:ID>\n",
      "<message:Test>false</message:Test>\n",
      "<message:Prepared>2023-11-28T12:09:44.623Z</message:Prepared>\n",
      "<message:Sender id=\"ECB\"/>\n",
      "<message:Structure structureID=\"ECB_EXR1\" dimensi\n"
     ]
    }
   ],
   "source": [
    "# Print the first 1000 characters of the response\n",
    "print(response.text[0:1000])"
   ]
  },
  {
   "cell_type": "code",
   "execution_count": 37,
   "metadata": {},
   "outputs": [
    {
     "name": "stdout",
     "output_type": "stream",
     "text": [
      "<Response [200]>\n"
     ]
    }
   ],
   "source": [
    "# Make the HTTP request again, now requesting for CSV format\n",
    "response = requests.get(request_url, params=parameters, headers={'Accept': 'text/csv'})\n",
    "# Response succesful? (Response code 200)\n",
    "print(response)"
   ]
  },
  {
   "cell_type": "code",
   "execution_count": 38,
   "metadata": {},
   "outputs": [
    {
     "data": {
      "text/plain": [
       "'KEY,FREQ,CURRENCY,CURRENCY_DENOM,EXR_TYPE,EXR_SUFFIX,TIME_PERIOD,OBS_VALUE,OBS_STATUS,OBS_CONF,OBS_PRE_BREAK,OBS_COM,TIME_FORMAT,BREAKS,COLLECTION,COMPILING_ORG,DISS_ORG,DOM_SER_IDS,PUBL_ECB,PUBL_MU,PUBL_PUBLIC,UNIT_INDEX_BASE,COMPILATION,COVERAGE,DECIMALS,NAT_TITLE,SOURCE_AGENCY,SOURCE_PUB,TITLE,TITLE_COMPL,UNIT,UNIT_MULT\\r\\nEXR.D.CHF.EUR.SP00.A,D,CHF,EUR,SP00,A,2000-01-03,1.6043,A,,,,P1D,,A,,,,,,,,,,4,,4F0,,Swiss franc/Euro,\"ECB reference exchange rate, Swiss franc/Euro, 2:15 pm (C.E.T.)\",CHF,0\\r\\nEXR.D.CHF.EUR.SP00.A,D,CHF,EUR,SP00,A,2000-01-04,1.6053,A,,,,P1D,,A,,,,,,,,,,4,,4F0,,Swiss franc/Euro,\"ECB reference exchange rate, Swiss franc/Euro, 2:15 pm (C.E.T.)\",CHF,0\\r\\nEXR.D.CHF.EUR.SP00.A,D,CHF,EUR,SP00,A,2000-01-05,1.606,A,,,,P1D,,A,,,,,,,,,,4,,4F0,,Swiss franc/Euro,\"ECB reference exchange rate, Swiss franc/Euro, 2:15 pm (C.E.T.)\",CHF,0\\r\\nEXR.D.CHF.EUR.SP00.A,D,CHF,EUR,SP00,A,2000-01-06,1.6068,A,,,,P1D,,A,,,,,,,,,,4,,4F0,,Swiss franc/Euro,\"ECB reference exchange rate, Swiss franc/Euro, '"
      ]
     },
     "execution_count": 38,
     "metadata": {},
     "output_type": "execute_result"
    }
   ],
   "source": [
    "# Print the first 1000 characters to inspect the response\n",
    "response.text[0:1000]"
   ]
  },
  {
   "cell_type": "code",
   "execution_count": 39,
   "metadata": {},
   "outputs": [],
   "source": [
    "# Read the response as a file into a Pandas DataFrame\n",
    "df = pd.read_csv(io.StringIO(response.text))"
   ]
  },
  {
   "cell_type": "code",
   "execution_count": 40,
   "metadata": {},
   "outputs": [
    {
     "name": "stdout",
     "output_type": "stream",
     "text": [
      "<class 'pandas.core.frame.DataFrame'>\n",
      "RangeIndex: 4859 entries, 0 to 4858\n",
      "Data columns (total 32 columns):\n",
      " #   Column           Non-Null Count  Dtype  \n",
      "---  ------           --------------  -----  \n",
      " 0   KEY              4859 non-null   object \n",
      " 1   FREQ             4859 non-null   object \n",
      " 2   CURRENCY         4859 non-null   object \n",
      " 3   CURRENCY_DENOM   4859 non-null   object \n",
      " 4   EXR_TYPE         4859 non-null   object \n",
      " 5   EXR_SUFFIX       4859 non-null   object \n",
      " 6   TIME_PERIOD      4859 non-null   object \n",
      " 7   OBS_VALUE        4798 non-null   float64\n",
      " 8   OBS_STATUS       4859 non-null   object \n",
      " 9   OBS_CONF         238 non-null    object \n",
      " 10  OBS_PRE_BREAK    0 non-null      float64\n",
      " 11  OBS_COM          0 non-null      float64\n",
      " 12  TIME_FORMAT      4859 non-null   object \n",
      " 13  BREAKS           0 non-null      float64\n",
      " 14  COLLECTION       4859 non-null   object \n",
      " 15  COMPILING_ORG    0 non-null      float64\n",
      " 16  DISS_ORG         0 non-null      float64\n",
      " 17  DOM_SER_IDS      0 non-null      float64\n",
      " 18  PUBL_ECB         0 non-null      float64\n",
      " 19  PUBL_MU          0 non-null      float64\n",
      " 20  PUBL_PUBLIC      0 non-null      float64\n",
      " 21  UNIT_INDEX_BASE  0 non-null      float64\n",
      " 22  COMPILATION      0 non-null      float64\n",
      " 23  COVERAGE         0 non-null      float64\n",
      " 24  DECIMALS         4859 non-null   int64  \n",
      " 25  NAT_TITLE        0 non-null      float64\n",
      " 26  SOURCE_AGENCY    4859 non-null   object \n",
      " 27  SOURCE_PUB       0 non-null      float64\n",
      " 28  TITLE            4859 non-null   object \n",
      " 29  TITLE_COMPL      4859 non-null   object \n",
      " 30  UNIT             4859 non-null   object \n",
      " 31  UNIT_MULT        4859 non-null   int64  \n",
      "dtypes: float64(15), int64(2), object(15)\n",
      "memory usage: 1.2+ MB\n"
     ]
    }
   ],
   "source": [
    "# Check the DataFrame's information\n",
    "df.info()"
   ]
  },
  {
   "cell_type": "code",
   "execution_count": 41,
   "metadata": {},
   "outputs": [
    {
     "data": {
      "text/html": [
       "<div>\n",
       "<style scoped>\n",
       "    .dataframe tbody tr th:only-of-type {\n",
       "        vertical-align: middle;\n",
       "    }\n",
       "\n",
       "    .dataframe tbody tr th {\n",
       "        vertical-align: top;\n",
       "    }\n",
       "\n",
       "    .dataframe thead th {\n",
       "        text-align: right;\n",
       "    }\n",
       "</style>\n",
       "<table border=\"1\" class=\"dataframe\">\n",
       "  <thead>\n",
       "    <tr style=\"text-align: right;\">\n",
       "      <th></th>\n",
       "      <th>KEY</th>\n",
       "      <th>FREQ</th>\n",
       "      <th>CURRENCY</th>\n",
       "      <th>CURRENCY_DENOM</th>\n",
       "      <th>EXR_TYPE</th>\n",
       "      <th>EXR_SUFFIX</th>\n",
       "      <th>TIME_PERIOD</th>\n",
       "      <th>OBS_VALUE</th>\n",
       "      <th>OBS_STATUS</th>\n",
       "      <th>OBS_CONF</th>\n",
       "      <th>...</th>\n",
       "      <th>COMPILATION</th>\n",
       "      <th>COVERAGE</th>\n",
       "      <th>DECIMALS</th>\n",
       "      <th>NAT_TITLE</th>\n",
       "      <th>SOURCE_AGENCY</th>\n",
       "      <th>SOURCE_PUB</th>\n",
       "      <th>TITLE</th>\n",
       "      <th>TITLE_COMPL</th>\n",
       "      <th>UNIT</th>\n",
       "      <th>UNIT_MULT</th>\n",
       "    </tr>\n",
       "  </thead>\n",
       "  <tbody>\n",
       "    <tr>\n",
       "      <th>4854</th>\n",
       "      <td>EXR.D.CHF.EUR.SP00.A</td>\n",
       "      <td>D</td>\n",
       "      <td>CHF</td>\n",
       "      <td>EUR</td>\n",
       "      <td>SP00</td>\n",
       "      <td>A</td>\n",
       "      <td>2018-09-25</td>\n",
       "      <td>1.1376</td>\n",
       "      <td>A</td>\n",
       "      <td>F</td>\n",
       "      <td>...</td>\n",
       "      <td>NaN</td>\n",
       "      <td>NaN</td>\n",
       "      <td>4</td>\n",
       "      <td>NaN</td>\n",
       "      <td>4F0</td>\n",
       "      <td>NaN</td>\n",
       "      <td>Swiss franc/Euro</td>\n",
       "      <td>ECB reference exchange rate, Swiss franc/Euro,...</td>\n",
       "      <td>CHF</td>\n",
       "      <td>0</td>\n",
       "    </tr>\n",
       "    <tr>\n",
       "      <th>4855</th>\n",
       "      <td>EXR.D.CHF.EUR.SP00.A</td>\n",
       "      <td>D</td>\n",
       "      <td>CHF</td>\n",
       "      <td>EUR</td>\n",
       "      <td>SP00</td>\n",
       "      <td>A</td>\n",
       "      <td>2018-09-26</td>\n",
       "      <td>1.1369</td>\n",
       "      <td>A</td>\n",
       "      <td>F</td>\n",
       "      <td>...</td>\n",
       "      <td>NaN</td>\n",
       "      <td>NaN</td>\n",
       "      <td>4</td>\n",
       "      <td>NaN</td>\n",
       "      <td>4F0</td>\n",
       "      <td>NaN</td>\n",
       "      <td>Swiss franc/Euro</td>\n",
       "      <td>ECB reference exchange rate, Swiss franc/Euro,...</td>\n",
       "      <td>CHF</td>\n",
       "      <td>0</td>\n",
       "    </tr>\n",
       "    <tr>\n",
       "      <th>4856</th>\n",
       "      <td>EXR.D.CHF.EUR.SP00.A</td>\n",
       "      <td>D</td>\n",
       "      <td>CHF</td>\n",
       "      <td>EUR</td>\n",
       "      <td>SP00</td>\n",
       "      <td>A</td>\n",
       "      <td>2018-09-27</td>\n",
       "      <td>1.1371</td>\n",
       "      <td>A</td>\n",
       "      <td>F</td>\n",
       "      <td>...</td>\n",
       "      <td>NaN</td>\n",
       "      <td>NaN</td>\n",
       "      <td>4</td>\n",
       "      <td>NaN</td>\n",
       "      <td>4F0</td>\n",
       "      <td>NaN</td>\n",
       "      <td>Swiss franc/Euro</td>\n",
       "      <td>ECB reference exchange rate, Swiss franc/Euro,...</td>\n",
       "      <td>CHF</td>\n",
       "      <td>0</td>\n",
       "    </tr>\n",
       "    <tr>\n",
       "      <th>4857</th>\n",
       "      <td>EXR.D.CHF.EUR.SP00.A</td>\n",
       "      <td>D</td>\n",
       "      <td>CHF</td>\n",
       "      <td>EUR</td>\n",
       "      <td>SP00</td>\n",
       "      <td>A</td>\n",
       "      <td>2018-09-28</td>\n",
       "      <td>1.1316</td>\n",
       "      <td>A</td>\n",
       "      <td>F</td>\n",
       "      <td>...</td>\n",
       "      <td>NaN</td>\n",
       "      <td>NaN</td>\n",
       "      <td>4</td>\n",
       "      <td>NaN</td>\n",
       "      <td>4F0</td>\n",
       "      <td>NaN</td>\n",
       "      <td>Swiss franc/Euro</td>\n",
       "      <td>ECB reference exchange rate, Swiss franc/Euro,...</td>\n",
       "      <td>CHF</td>\n",
       "      <td>0</td>\n",
       "    </tr>\n",
       "    <tr>\n",
       "      <th>4858</th>\n",
       "      <td>EXR.D.CHF.EUR.SP00.A</td>\n",
       "      <td>D</td>\n",
       "      <td>CHF</td>\n",
       "      <td>EUR</td>\n",
       "      <td>SP00</td>\n",
       "      <td>A</td>\n",
       "      <td>2018-10-01</td>\n",
       "      <td>1.1414</td>\n",
       "      <td>A</td>\n",
       "      <td>F</td>\n",
       "      <td>...</td>\n",
       "      <td>NaN</td>\n",
       "      <td>NaN</td>\n",
       "      <td>4</td>\n",
       "      <td>NaN</td>\n",
       "      <td>4F0</td>\n",
       "      <td>NaN</td>\n",
       "      <td>Swiss franc/Euro</td>\n",
       "      <td>ECB reference exchange rate, Swiss franc/Euro,...</td>\n",
       "      <td>CHF</td>\n",
       "      <td>0</td>\n",
       "    </tr>\n",
       "  </tbody>\n",
       "</table>\n",
       "<p>5 rows × 32 columns</p>\n",
       "</div>"
      ],
      "text/plain": [
       "                       KEY FREQ CURRENCY CURRENCY_DENOM EXR_TYPE EXR_SUFFIX  \\\n",
       "4854  EXR.D.CHF.EUR.SP00.A    D      CHF            EUR     SP00          A   \n",
       "4855  EXR.D.CHF.EUR.SP00.A    D      CHF            EUR     SP00          A   \n",
       "4856  EXR.D.CHF.EUR.SP00.A    D      CHF            EUR     SP00          A   \n",
       "4857  EXR.D.CHF.EUR.SP00.A    D      CHF            EUR     SP00          A   \n",
       "4858  EXR.D.CHF.EUR.SP00.A    D      CHF            EUR     SP00          A   \n",
       "\n",
       "     TIME_PERIOD  OBS_VALUE OBS_STATUS OBS_CONF  ...  COMPILATION  COVERAGE  \\\n",
       "4854  2018-09-25     1.1376          A        F  ...          NaN       NaN   \n",
       "4855  2018-09-26     1.1369          A        F  ...          NaN       NaN   \n",
       "4856  2018-09-27     1.1371          A        F  ...          NaN       NaN   \n",
       "4857  2018-09-28     1.1316          A        F  ...          NaN       NaN   \n",
       "4858  2018-10-01     1.1414          A        F  ...          NaN       NaN   \n",
       "\n",
       "     DECIMALS  NAT_TITLE SOURCE_AGENCY  SOURCE_PUB             TITLE  \\\n",
       "4854        4        NaN           4F0         NaN  Swiss franc/Euro   \n",
       "4855        4        NaN           4F0         NaN  Swiss franc/Euro   \n",
       "4856        4        NaN           4F0         NaN  Swiss franc/Euro   \n",
       "4857        4        NaN           4F0         NaN  Swiss franc/Euro   \n",
       "4858        4        NaN           4F0         NaN  Swiss franc/Euro   \n",
       "\n",
       "                                            TITLE_COMPL  UNIT  UNIT_MULT  \n",
       "4854  ECB reference exchange rate, Swiss franc/Euro,...   CHF          0  \n",
       "4855  ECB reference exchange rate, Swiss franc/Euro,...   CHF          0  \n",
       "4856  ECB reference exchange rate, Swiss franc/Euro,...   CHF          0  \n",
       "4857  ECB reference exchange rate, Swiss franc/Euro,...   CHF          0  \n",
       "4858  ECB reference exchange rate, Swiss franc/Euro,...   CHF          0  \n",
       "\n",
       "[5 rows x 32 columns]"
      ]
     },
     "execution_count": 41,
     "metadata": {},
     "output_type": "execute_result"
    }
   ],
   "source": [
    "# Show the last 5 entries of the DataFrame\n",
    "df.tail()"
   ]
  },
  {
   "cell_type": "code",
   "execution_count": 42,
   "metadata": {},
   "outputs": [
    {
     "data": {
      "text/plain": [
       "count    4798.000000\n",
       "mean        1.379459\n",
       "std         0.193938\n",
       "min         0.981600\n",
       "25%         1.205500\n",
       "50%         1.467300\n",
       "75%         1.547200\n",
       "max         1.680300\n",
       "Name: OBS_VALUE, dtype: float64"
      ]
     },
     "execution_count": 42,
     "metadata": {},
     "output_type": "execute_result"
    }
   ],
   "source": [
    "# Inspect the prices. Do the mean, minimum and maximum make sense?\n",
    "df['OBS_VALUE'].describe()"
   ]
  },
  {
   "cell_type": "code",
   "execution_count": 43,
   "metadata": {},
   "outputs": [
    {
     "data": {
      "text/html": [
       "<div>\n",
       "<style scoped>\n",
       "    .dataframe tbody tr th:only-of-type {\n",
       "        vertical-align: middle;\n",
       "    }\n",
       "\n",
       "    .dataframe tbody tr th {\n",
       "        vertical-align: top;\n",
       "    }\n",
       "\n",
       "    .dataframe thead th {\n",
       "        text-align: right;\n",
       "    }\n",
       "</style>\n",
       "<table border=\"1\" class=\"dataframe\">\n",
       "  <thead>\n",
       "    <tr style=\"text-align: right;\">\n",
       "      <th></th>\n",
       "      <th>OBS_VALUE</th>\n",
       "    </tr>\n",
       "    <tr>\n",
       "      <th>TIME_PERIOD</th>\n",
       "      <th></th>\n",
       "    </tr>\n",
       "  </thead>\n",
       "  <tbody>\n",
       "    <tr>\n",
       "      <th>2018-09-25</th>\n",
       "      <td>1.1376</td>\n",
       "    </tr>\n",
       "    <tr>\n",
       "      <th>2018-09-26</th>\n",
       "      <td>1.1369</td>\n",
       "    </tr>\n",
       "    <tr>\n",
       "      <th>2018-09-27</th>\n",
       "      <td>1.1371</td>\n",
       "    </tr>\n",
       "    <tr>\n",
       "      <th>2018-09-28</th>\n",
       "      <td>1.1316</td>\n",
       "    </tr>\n",
       "    <tr>\n",
       "      <th>2018-10-01</th>\n",
       "      <td>1.1414</td>\n",
       "    </tr>\n",
       "  </tbody>\n",
       "</table>\n",
       "</div>"
      ],
      "text/plain": [
       "             OBS_VALUE\n",
       "TIME_PERIOD           \n",
       "2018-09-25      1.1376\n",
       "2018-09-26      1.1369\n",
       "2018-09-27      1.1371\n",
       "2018-09-28      1.1316\n",
       "2018-10-01      1.1414"
      ]
     },
     "execution_count": 43,
     "metadata": {},
     "output_type": "execute_result"
    }
   ],
   "source": [
    "# Create a new DataFrame called 'ts'\n",
    "ts = df.filter(['TIME_PERIOD', 'OBS_VALUE'], axis=1)\n",
    "# 'TIME_PERIOD' was of type 'object' (as seen in df.info). Convert it to datetime first\n",
    "ts['TIME_PERIOD'] = pd.to_datetime(ts['TIME_PERIOD'])\n",
    "# Set 'TIME_PERIOD' to be the index\n",
    "ts = ts.set_index('TIME_PERIOD')\n",
    "# Print the last 5 rows to screen\n",
    "ts.tail()"
   ]
  },
  {
   "cell_type": "code",
   "execution_count": 44,
   "metadata": {},
   "outputs": [
    {
     "data": {
      "text/plain": [
       "<Axes: xlabel='TIME_PERIOD'>"
      ]
     },
     "execution_count": 44,
     "metadata": {},
     "output_type": "execute_result"
    },
    {
     "data": {
      "image/png": "[encoded data removed]",
      "text/plain": [
       "<Figure size 640x480 with 1 Axes>"
      ]
     },
     "metadata": {},
     "output_type": "display_data"
    }
   ],
   "source": [
    "%matplotlib inline\n",
    "ts.plot()"
   ]
  }
 ],
 "metadata": {
  "kernelspec": {
   "display_name": "base",
   "language": "python",
   "name": "python3"
  },
  "language_info": {
   "codemirror_mode": {
    "name": "ipython",
    "version": 3
   },
   "file_extension": ".py",
   "mimetype": "text/x-python",
   "name": "python",
   "nbconvert_exporter": "python",
   "pygments_lexer": "ipython3",
   "version": "3.11.5"
  }
 },
 "nbformat": 4,
 "nbformat_minor": 2
}
