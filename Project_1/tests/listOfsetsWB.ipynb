{
 "cells": [
  {
   "cell_type": "code",
   "execution_count": 1,
   "metadata": {},
   "outputs": [],
   "source": [
    "from pandas_datareader import wb"
   ]
  },
  {
   "cell_type": "code",
   "execution_count": 2,
   "metadata": {},
   "outputs": [],
   "source": [
    "# wbcountries = wb.get_countries()\n",
    "# wbcountries['name'] = wbcountries.name.str.strip()\n",
    "# wbcountries"
   ]
  },
  {
   "cell_type": "code",
   "execution_count": 5,
   "metadata": {},
   "outputs": [
    {
     "name": "stdout",
     "output_type": "stream",
     "text": [
      "<class 'pandas.core.frame.DataFrame'>\n",
      "Index: 24460 entries, 0 to 24459\n",
      "Data columns (total 7 columns):\n",
      " #   Column              Non-Null Count  Dtype \n",
      "---  ------              --------------  ----- \n",
      " 0   id                  24460 non-null  object\n",
      " 1   name                24460 non-null  object\n",
      " 2   unit                24460 non-null  object\n",
      " 3   source              24460 non-null  object\n",
      " 4   sourceNote          24460 non-null  object\n",
      " 5   sourceOrganization  24460 non-null  object\n",
      " 6   topics              24460 non-null  object\n",
      "dtypes: object(7)\n",
      "memory usage: 1.5+ MB\n"
     ]
    }
   ],
   "source": [
    "popvars = wb.search('')\n",
    "popvars.info()\n",
    "outputdata = popvars.iloc[:,:2]"
   ]
  },
  {
   "cell_type": "code",
   "execution_count": null,
   "metadata": {},
   "outputs": [
    {
     "data": {
      "text/html": [
       "<div>\n",
       "<style scoped>\n",
       "    .dataframe tbody tr th:only-of-type {\n",
       "        vertical-align: middle;\n",
       "    }\n",
       "\n",
       "    .dataframe tbody tr th {\n",
       "        vertical-align: top;\n",
       "    }\n",
       "\n",
       "    .dataframe thead th {\n",
       "        text-align: right;\n",
       "    }\n",
       "</style>\n",
       "<table border=\"1\" class=\"dataframe\">\n",
       "  <thead>\n",
       "    <tr style=\"text-align: right;\">\n",
       "      <th></th>\n",
       "      <th>id</th>\n",
       "      <th>name</th>\n",
       "    </tr>\n",
       "  </thead>\n",
       "  <tbody>\n",
       "    <tr>\n",
       "      <th>6850</th>\n",
       "      <td>FS.LBL.LIQU.GD.ZS</td>\n",
       "      <td>Liquid liabilities (M3) as % of GDP</td>\n",
       "    </tr>\n",
       "    <tr>\n",
       "      <th>6851</th>\n",
       "      <td>FS.LBL.LIQU.GDP.ZS</td>\n",
       "      <td>Liquid liabilities (M3) as % of GDP</td>\n",
       "    </tr>\n",
       "  </tbody>\n",
       "</table>\n",
       "</div>"
      ],
      "text/plain": [
       "                      id                                 name\n",
       "6850   FS.LBL.LIQU.GD.ZS  Liquid liabilities (M3) as % of GDP\n",
       "6851  FS.LBL.LIQU.GDP.ZS  Liquid liabilities (M3) as % of GDP"
      ]
     },
     "metadata": {},
     "output_type": "display_data"
    }
   ],
   "source": [
    "display(outputdata)"
   ]
  },
  {
   "cell_type": "code",
   "execution_count": null,
   "metadata": {},
   "outputs": [],
   "source": [
    "outputdata.to_csv('/home/DataScience/Project_1/Data/Wb_sets_list.csv')"
   ]
  },
  {
   "cell_type": "code",
   "execution_count": null,
   "metadata": {},
   "outputs": [],
   "source": [
    "outputdata.to_excel('/home/DataScience/Project_1/Data/Wb_sets_list.xlsx')"
   ]
  },
  {
   "cell_type": "code",
   "execution_count": null,
   "metadata": {},
   "outputs": [
    {
     "name": "stdout",
     "output_type": "stream",
     "text": [
      "<class 'pandas.core.frame.DataFrame'>\n",
      "Index: 11 entries, 74 to 18265\n",
      "Data columns (total 7 columns):\n",
      " #   Column              Non-Null Count  Dtype \n",
      "---  ------              --------------  ----- \n",
      " 0   id                  11 non-null     object\n",
      " 1   name                11 non-null     object\n",
      " 2   unit                11 non-null     object\n",
      " 3   source              11 non-null     object\n",
      " 4   sourceNote          11 non-null     object\n",
      " 5   sourceOrganization  11 non-null     object\n",
      " 6   topics              11 non-null     object\n",
      "dtypes: object(7)\n",
      "memory usage: 704.0+ bytes\n"
     ]
    }
   ],
   "source": [
    "clothing = wb.search('clothing')\n",
    "clothing.info()\n",
    "clothing = clothing.iloc[:,:2]"
   ]
  },
  {
   "cell_type": "code",
   "execution_count": null,
   "metadata": {},
   "outputs": [
    {
     "data": {
      "text/html": [
       "<div>\n",
       "<style scoped>\n",
       "    .dataframe tbody tr th:only-of-type {\n",
       "        vertical-align: middle;\n",
       "    }\n",
       "\n",
       "    .dataframe tbody tr th {\n",
       "        vertical-align: top;\n",
       "    }\n",
       "\n",
       "    .dataframe thead th {\n",
       "        text-align: right;\n",
       "    }\n",
       "</style>\n",
       "<table border=\"1\" class=\"dataframe\">\n",
       "  <thead>\n",
       "    <tr style=\"text-align: right;\">\n",
       "      <th></th>\n",
       "      <th>id</th>\n",
       "      <th>name</th>\n",
       "    </tr>\n",
       "  </thead>\n",
       "  <tbody>\n",
       "    <tr>\n",
       "      <th>74</th>\n",
       "      <td>110300</td>\n",
       "      <td>110300:CLOTHING AND FOOTWEAR</td>\n",
       "    </tr>\n",
       "    <tr>\n",
       "      <th>75</th>\n",
       "      <td>1103000</td>\n",
       "      <td>1103000:CLOTHING AND FOOTWEAR</td>\n",
       "    </tr>\n",
       "    <tr>\n",
       "      <th>10814</th>\n",
       "      <td>NV.MNF.TXTL.UN.ZS</td>\n",
       "      <td>Textiles and clothing (% of value added in mfg)</td>\n",
       "    </tr>\n",
       "    <tr>\n",
       "      <th>10815</th>\n",
       "      <td>NV.MNF.TXTL.ZS.UN</td>\n",
       "      <td>Textiles and clothing (% of value added in man...</td>\n",
       "    </tr>\n",
       "    <tr>\n",
       "      <th>11277</th>\n",
       "      <td>PER.BAS.HH.UNIF</td>\n",
       "      <td>World Bank: Household spending per student on ...</td>\n",
       "    </tr>\n",
       "    <tr>\n",
       "      <th>11549</th>\n",
       "      <td>PER.PRM.HH.UNIF</td>\n",
       "      <td>World Bank: Household spending per student on ...</td>\n",
       "    </tr>\n",
       "    <tr>\n",
       "      <th>11643</th>\n",
       "      <td>PER.SEC.HH.UNIF</td>\n",
       "      <td>World Bank: Household spending per student on ...</td>\n",
       "    </tr>\n",
       "    <tr>\n",
       "      <th>11942</th>\n",
       "      <td>PER.TER.HH.UNIF</td>\n",
       "      <td>World Bank: Household spending per student on ...</td>\n",
       "    </tr>\n",
       "    <tr>\n",
       "      <th>18015</th>\n",
       "      <td>TM.TAX.CLTH.CD.DV</td>\n",
       "      <td>Average tariffs imposed by developed countries...</td>\n",
       "    </tr>\n",
       "    <tr>\n",
       "      <th>18016</th>\n",
       "      <td>TM.TAX.CLTH.CD.LD</td>\n",
       "      <td>Average tariffs imposed by developed countries...</td>\n",
       "    </tr>\n",
       "    <tr>\n",
       "      <th>18265</th>\n",
       "      <td>TX.VAL.TXTL.UN.ZS</td>\n",
       "      <td>Textiles and clothing (% of merchandise exports)</td>\n",
       "    </tr>\n",
       "  </tbody>\n",
       "</table>\n",
       "</div>"
      ],
      "text/plain": [
       "                      id                                               name\n",
       "74                110300                       110300:CLOTHING AND FOOTWEAR\n",
       "75               1103000                      1103000:CLOTHING AND FOOTWEAR\n",
       "10814  NV.MNF.TXTL.UN.ZS    Textiles and clothing (% of value added in mfg)\n",
       "10815  NV.MNF.TXTL.ZS.UN  Textiles and clothing (% of value added in man...\n",
       "11277    PER.BAS.HH.UNIF  World Bank: Household spending per student on ...\n",
       "11549    PER.PRM.HH.UNIF  World Bank: Household spending per student on ...\n",
       "11643    PER.SEC.HH.UNIF  World Bank: Household spending per student on ...\n",
       "11942    PER.TER.HH.UNIF  World Bank: Household spending per student on ...\n",
       "18015  TM.TAX.CLTH.CD.DV  Average tariffs imposed by developed countries...\n",
       "18016  TM.TAX.CLTH.CD.LD  Average tariffs imposed by developed countries...\n",
       "18265  TX.VAL.TXTL.UN.ZS   Textiles and clothing (% of merchandise exports)"
      ]
     },
     "metadata": {},
     "output_type": "display_data"
    }
   ],
   "source": [
    "display(clothing)"
   ]
  },
  {
   "cell_type": "code",
   "execution_count": null,
   "metadata": {},
   "outputs": [],
   "source": [
    "ind = ['NY.GDP.PCAP.KD']"
   ]
  },
  {
   "cell_type": "code",
   "execution_count": null,
   "metadata": {},
   "outputs": [
    {
     "name": "stdout",
     "output_type": "stream",
     "text": [
      "               NY.GDP.PCAP.KD\n",
      "country  year                \n",
      "Zimbabwe 1974     1739.528005\n",
      "         1973     1685.936447\n",
      "         1972     1696.555002\n",
      "         1971     1615.572017\n",
      "         1970     1529.055965\n"
     ]
    }
   ],
   "source": [
    "dat = wb.download(indicator=ind, country='all', start=1970, end=2023).dropna()\n",
    "print(dat)"
   ]
  }
 ],
 "metadata": {
  "kernelspec": {
   "display_name": "base",
   "language": "python",
   "name": "python3"
  },
  "language_info": {
   "codemirror_mode": {
    "name": "ipython",
    "version": 3
   },
   "file_extension": ".py",
   "mimetype": "text/x-python",
   "name": "python",
   "nbconvert_exporter": "python",
   "pygments_lexer": "ipython3",
   "version": "3.11.5"
  }
 },
 "nbformat": 4,
 "nbformat_minor": 2
}
